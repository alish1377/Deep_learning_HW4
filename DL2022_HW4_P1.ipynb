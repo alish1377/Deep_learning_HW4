{
  "nbformat": 4,
  "nbformat_minor": 0,
  "metadata": {
    "colab": {
      "provenance": [],
      "collapsed_sections": [
        "4WFRs6jJpfig",
        "0CLr_Pv58jqD",
        "qbLCgTVFboBY"
      ]
    },
    "kernelspec": {
      "name": "python3",
      "display_name": "Python 3"
    },
    "language_info": {
      "name": "python"
    },
    "accelerator": "GPU",
    "gpuClass": "standard"
  },
  "cells": [
    {
      "cell_type": "markdown",
      "source": [
        "###DEEP LEARNING\n",
        "###HW4.1"
      ],
      "metadata": {
        "id": "4WFRs6jJpfig"
      }
    },
    {
      "cell_type": "markdown",
      "source": [
        "https://github.com/bentrevett/pytorch-seq2seq.git"
      ],
      "metadata": {
        "id": "7Ejtazlj6kmT"
      }
    },
    {
      "cell_type": "code",
      "source": [
        "!pip install shap"
      ],
      "metadata": {
        "id": "16ZxxPAPY-Zm"
      },
      "execution_count": null,
      "outputs": []
    },
    {
      "cell_type": "code",
      "source": [
        "import re\n",
        "import shap\n",
        "import time\n",
        "import math\n",
        "import torch\n",
        "import random\n",
        "import torchtext\n",
        "import numpy as np\n",
        "import torch.nn as nn\n",
        "import torch.optim as optim\n",
        "import matplotlib.pyplot as plt\n",
        "from torch.utils.data import DataLoader\n",
        "from torchtext.data import get_tokenizer\n",
        "from sklearn.model_selection import train_test_split\n",
        "from torchtext.vocab import build_vocab_from_iterator\n",
        "from torchtext.data.functional import to_map_style_dataset\n",
        "device = torch.device('cuda' if torch.cuda.is_available() else 'cpu')"
      ],
      "metadata": {
        "id": "K2yrA5XlprQ5"
      },
      "execution_count": 2,
      "outputs": []
    },
    {
      "cell_type": "code",
      "source": [
        "random.seed(21)\n",
        "np.random.seed(21)\n",
        "torch.manual_seed(21)\n",
        "torch.cuda.manual_seed(21)\n",
        "torch.backends.cudnn.deterministic = True"
      ],
      "metadata": {
        "id": "7TbAgorvQRqH"
      },
      "execution_count": 3,
      "outputs": []
    },
    {
      "cell_type": "code",
      "source": [
        "with open('/content/ferdousi.txt') as f: poems = [line.strip() for line in f.readlines()]\n",
        "poems = poems[2:]"
      ],
      "metadata": {
        "id": "1LdkwI1Z-2_E"
      },
      "execution_count": 4,
      "outputs": []
    },
    {
      "cell_type": "code",
      "source": [
        "first_part = []\n",
        "second_part = []\n",
        "for i in range(len(poems)):\n",
        "  if i % 2 == 0:\n",
        "    first_part.append(poems[i])\n",
        "  else:\n",
        "    second_part.append(poems[i])\n",
        "first_part, second_part = first_part[0:49608], second_part[0:49608]"
      ],
      "metadata": {
        "id": "xShIqRrWmtRK"
      },
      "execution_count": 5,
      "outputs": []
    },
    {
      "cell_type": "code",
      "source": [
        "first_part =enumerate(first_part)\n",
        "second_part =enumerate(second_part)"
      ],
      "metadata": {
        "id": "v_Ydp31DbVER"
      },
      "execution_count": 6,
      "outputs": []
    },
    {
      "cell_type": "code",
      "source": [
        "tokenizer = get_tokenizer(\"basic_english\")\n",
        "def build_vocab(datasets):\n",
        "    for dataset in datasets:\n",
        "        for _, text in dataset:\n",
        "            yield tokenizer(text)"
      ],
      "metadata": {
        "id": "y7kQ9kFMc2uN"
      },
      "execution_count": 7,
      "outputs": []
    },
    {
      "cell_type": "code",
      "source": [
        "token_generator = build_vocab([first_part, second_part])\n",
        "vocab = build_vocab_from_iterator(token_generator,\n",
        "                                  min_freq=1,\n",
        "                                  specials=['<unk>', '<start>', '<end>'])\n",
        "vocab.set_default_index(vocab[\"<unk>\"])"
      ],
      "metadata": {
        "id": "ab2WsOxydJp8"
      },
      "execution_count": 8,
      "outputs": []
    },
    {
      "cell_type": "code",
      "source": [
        "tokens = tokenizer(\"پارسیان و من\")\n",
        "indexes = vocab(tokens)\n",
        "\n",
        "tokens, indexes"
      ],
      "metadata": {
        "colab": {
          "base_uri": "https://localhost:8080/"
        },
        "id": "mKM3EYtxeDSN",
        "outputId": "51dde7cc-c732-43c0-8d98-19576f69eb8f"
      },
      "execution_count": 9,
      "outputs": [
        {
          "output_type": "execute_result",
          "data": {
            "text/plain": [
              "(['پارسیان', 'و', 'من'], [0, 3, 23])"
            ]
          },
          "metadata": {},
          "execution_count": 9
        }
      ]
    },
    {
      "cell_type": "code",
      "source": [
        "tokens = tokenizer(\"<eos>\")\n",
        "indexes = vocab(tokens)\n",
        "\n",
        "print(tokens, indexes)\n",
        "print(vocab[\"<sos>\"])\n",
        "print(vocab.get_itos()[18010])\n",
        "print(vocab.get_itos()[3])"
      ],
      "metadata": {
        "colab": {
          "base_uri": "https://localhost:8080/"
        },
        "id": "PasEnqtp8L9Z",
        "outputId": "8849a43b-51f6-40fc-d28e-675303fdc5b4"
      },
      "execution_count": 10,
      "outputs": [
        {
          "output_type": "stream",
          "name": "stdout",
          "text": [
            "['<eos>'] [0]\n",
            "0\n",
            "ییک\n",
            "و\n"
          ]
        }
      ]
    },
    {
      "cell_type": "code",
      "source": [
        "first_part = []\n",
        "second_part = []\n",
        "for i in range(len(poems)):\n",
        "  if i % 2 == 0:\n",
        "    first_part.append(poems[i])\n",
        "  else:\n",
        "    second_part.append(poems[i])\n",
        "first_part, second_part = first_part[0:49608], second_part[0:49608]"
      ],
      "metadata": {
        "id": "9s2-JGQi_Mys"
      },
      "execution_count": 11,
      "outputs": []
    },
    {
      "cell_type": "code",
      "source": [
        "X_TV, X_test, y_TV, y_test = train_test_split(first_part, second_part, test_size=0.2, random_state=42)\n",
        "X_train, X_val, y_train, y_val = train_test_split(X_TV, y_TV, test_size=0.25, random_state=42)"
      ],
      "metadata": {
        "id": "fx-pvejfbTCJ"
      },
      "execution_count": 12,
      "outputs": []
    },
    {
      "cell_type": "code",
      "source": [
        "train_data, test_data, val_data = [], [], []\n",
        "for i in range(len(X_train)):\n",
        "  train_data.append([X_train[i], y_train[i]])\n",
        "for i in range(len(X_test)):\n",
        "  test_data.append([X_test[i], y_test[i]])\n",
        "for i in range(len(X_val)):\n",
        "  val_data.append([X_val[i], y_val[i]])"
      ],
      "metadata": {
        "id": "XjCjVo-HbVBX"
      },
      "execution_count": 13,
      "outputs": []
    },
    {
      "cell_type": "code",
      "source": [
        "print(\"train length\", len(train_data),\"\\ntest length\", len(test_data), \"\\nval length\", len(val_data))"
      ],
      "metadata": {
        "colab": {
          "base_uri": "https://localhost:8080/"
        },
        "id": "el4FVCfnCVVF",
        "outputId": "9cbbc310-16b8-4255-e962-2ca5ffe68b5c"
      },
      "execution_count": 14,
      "outputs": [
        {
          "output_type": "stream",
          "name": "stdout",
          "text": [
            "train length 29764 \n",
            "test length 9922 \n",
            "val length 9922\n"
          ]
        }
      ]
    },
    {
      "cell_type": "code",
      "source": [
        "def vb(b):\n",
        "    IP, OP = list(zip(*b))\n",
        "    IP = [vocab(tokenizer(S)) for S in IP]\n",
        "    IP = [S+([0]* (9-len(S))) if len(S)<9 else S[:9] for S in IP]\n",
        "    OP = [vocab(tokenizer(sample)) for sample in OP]\n",
        "    OP = [S+([0]* (9-len(S))) if len(S)<9 else S[:9] for S in OP]\n",
        "    IPP,OPP = [], []\n",
        "    for i in IP:\n",
        "      ii = list(i)\n",
        "      ii.insert(0,1)\n",
        "      ii.append(2)\n",
        "      IPP.append(ii)\n",
        "    for j in OP:\n",
        "      jj = list(j)\n",
        "      jj.insert(0,1)\n",
        "      jj.append(2)\n",
        "      OPP.append(jj)\n",
        "    return torch.tensor(IPP, dtype=torch.int32).transpose(0, 1).to(device),torch.tensor(OPP, dtype=torch.int32).transpose(0, 1).to(device)"
      ],
      "metadata": {
        "id": "_6jqijMMaYuQ"
      },
      "execution_count": 15,
      "outputs": []
    },
    {
      "cell_type": "code",
      "source": [
        "train_data, test_data, val_data = to_map_style_dataset(train_data), to_map_style_dataset(test_data), to_map_style_dataset(val_data)\n",
        "train_loader = DataLoader(train_data, batch_size=1024, collate_fn=vb)\n",
        "test_loader  = DataLoader(test_data, batch_size=1024, collate_fn=vb)\n",
        "val_loader  = DataLoader(val_data, batch_size=1024, collate_fn=vb)"
      ],
      "metadata": {
        "id": "GL2V45Wpeb6p"
      },
      "execution_count": 16,
      "outputs": []
    },
    {
      "cell_type": "code",
      "source": [
        "first_batch = next(iter(train_loader))"
      ],
      "metadata": {
        "id": "RCmyOTxUw8RI"
      },
      "execution_count": 17,
      "outputs": []
    },
    {
      "cell_type": "code",
      "source": [
        "first_batch[1].shape"
      ],
      "metadata": {
        "colab": {
          "base_uri": "https://localhost:8080/"
        },
        "id": "k5uYzRaZxmbI",
        "outputId": "5b872133-0d3f-42ce-9bfd-efc276de63f6"
      },
      "execution_count": 18,
      "outputs": [
        {
          "output_type": "execute_result",
          "data": {
            "text/plain": [
              "torch.Size([11, 1024])"
            ]
          },
          "metadata": {},
          "execution_count": 18
        }
      ]
    },
    {
      "cell_type": "code",
      "source": [
        "for X, Y in train_loader:\n",
        "    print(X.shape, Y.shape)\n",
        "    break"
      ],
      "metadata": {
        "colab": {
          "base_uri": "https://localhost:8080/"
        },
        "id": "M73L_oFH2Cqa",
        "outputId": "05cc9ec4-6e23-434f-f64a-40a67bce1121"
      },
      "execution_count": 19,
      "outputs": [
        {
          "output_type": "stream",
          "name": "stdout",
          "text": [
            "torch.Size([11, 1024]) torch.Size([11, 1024])\n"
          ]
        }
      ]
    },
    {
      "cell_type": "code",
      "source": [
        "first_batch[0][:,0].shape"
      ],
      "metadata": {
        "colab": {
          "base_uri": "https://localhost:8080/"
        },
        "id": "kiFkNJRr2ahg",
        "outputId": "7c4237a1-f063-4afc-857b-46202d6d6762"
      },
      "execution_count": 20,
      "outputs": [
        {
          "output_type": "execute_result",
          "data": {
            "text/plain": [
              "torch.Size([11])"
            ]
          },
          "metadata": {},
          "execution_count": 20
        }
      ]
    },
    {
      "cell_type": "markdown",
      "source": [
        "##A"
      ],
      "metadata": {
        "id": "0CLr_Pv58jqD"
      }
    },
    {
      "cell_type": "code",
      "source": [
        "class encoder(nn.Module):\n",
        "\n",
        "    def __init__(self, id, ed, hd, nl, dropout):\n",
        "\n",
        "        super().__init__()\n",
        "        self.hd = hd\n",
        "        self.nl = nl\n",
        "        self.dropout = nn.Dropout(dropout)\n",
        "        self.Embddng = nn.Embedding(id, ed)\n",
        "        self.RNN = nn.LSTM(ed, hd, nl, dropout = dropout)\n",
        "        \n",
        "    def forward(self, source):\n",
        "        \n",
        "        #source = [source len, batch size]\n",
        "        embedded = self.dropout(self.Embddng(source))\n",
        "        #embedded = [source len, batch size, emb dim]\n",
        "        outputs, (hidden, cell) = self.RNN(embedded)\n",
        "        #outputs = [source len, batch size, hid dim * n directions]\n",
        "        #hidden = [n layers * n directions, batch size, hid dim]\n",
        "        #cell = [n layers * n directions, batch size, hid dim]\n",
        "        #outputs are always from the top hidden layer\n",
        "        return hidden, cell"
      ],
      "metadata": {
        "id": "ODcx_cKE22jd"
      },
      "execution_count": 21,
      "outputs": []
    },
    {
      "cell_type": "code",
      "source": [
        "class decoder(nn.Module):\n",
        "    def __init__(self, od, ed, hd, nl, dropout):\n",
        "\n",
        "        super().__init__()\n",
        "        self.od = od\n",
        "        self.hd = hd\n",
        "        self.nl = nl\n",
        "        self.Embddng = nn.Embedding(od, ed)\n",
        "        self.fc = nn.Linear(hd, od)\n",
        "        self.dropout = nn.Dropout(dropout)\n",
        "        self.probs = nn.Softmax(dim=1)\n",
        "        self.RNN = nn.LSTM(ed, hd, nl, dropout = dropout)\n",
        "        \n",
        "    def forward(self, input, hidden, cell):\n",
        "        \n",
        "        #input = [batch size]\n",
        "        #hidden = [n layers * n directions, batch size, hid dim]\n",
        "        #cell = [n layers * n directions, batch size, hid dim]\n",
        "        \n",
        "        #n directions in the decoder will both always be 1, therefore:\n",
        "        #hidden = [n layers, batch size, hid dim]\n",
        "        #context = [n layers, batch size, hid dim]\n",
        "        \n",
        "        input = input.unsqueeze(0)\n",
        "        \n",
        "        #input = [1, batch size]\n",
        "        \n",
        "        embedded = self.dropout(self.Embddng(input))\n",
        "        \n",
        "        #embedded = [1, batch size, emb dim]\n",
        "                \n",
        "        output, (hidden, cell) = self.RNN(embedded, (hidden, cell))\n",
        "        \n",
        "        #output = [seq len, batch size, hid dim * n directions]\n",
        "        #hidden = [n layers * n directions, batch size, hid dim]\n",
        "        #cell = [n layers * n directions, batch size, hid dim]\n",
        "        \n",
        "        #seq len and n directions will always be 1 in the decoder, therefore:\n",
        "        #output = [1, batch size, hid dim]\n",
        "        #hidden = [n layers, batch size, hid dim]\n",
        "        #cell = [n layers, batch size, hid dim]\n",
        "        \n",
        "        prediction = self.fc(output.squeeze(0))\n",
        "        \n",
        "        #prediction = [batch size, output dim]\n",
        "        \n",
        "        return self.probs(prediction), hidden, cell"
      ],
      "metadata": {
        "id": "OxlFJolCWVVd"
      },
      "execution_count": 22,
      "outputs": []
    },
    {
      "cell_type": "code",
      "source": [
        "class MODEL(nn.Module):\n",
        "    def __init__(self, encdr, dcdr, dvce):\n",
        "        super().__init__()\n",
        "        \n",
        "        self.encdr = encdr\n",
        "        self.dcdr = dcdr\n",
        "        self.device = dvce\n",
        "        \n",
        "        assert encdr.hd == dcdr.hd, \\\n",
        "            \"Hidden dimensions of encoder and decoder must be equal!\"\n",
        "        assert encdr.nl == dcdr.nl, \\\n",
        "            \"Encoder and decoder must have equal number of layers!\"\n",
        "        \n",
        "    def forward(self, sorce, target, ratio = 0.5):\n",
        "\n",
        "        #src = [src len, batch size]\n",
        "        #trg = [trg len, batch size]\n",
        "        #teacher_forcing_ratio is probability to use teacher forcing\n",
        "        #e.g. if teacher_forcing_ratio is 0.75 we use ground-truth inputs 75% of the time\n",
        "        \n",
        "        batch_size = target.shape[1]\n",
        "        trg_len = target.shape[0]\n",
        "        vocab_size = self.dcdr.od\n",
        "        \n",
        "        #tensor to store decoder outputs\n",
        "        outputs = torch.zeros(trg_len, batch_size, vocab_size).to(self.device)\n",
        "        \n",
        "        #last hidden state of the encoder is used as the initial hidden state of the decoder\n",
        "        hidden, cell = self.encdr(sorce)\n",
        "        \n",
        "        #first input to the decoder is the <sos> tokens\n",
        "        input = target[0,:]\n",
        "        \n",
        "        for t in range(1, trg_len):\n",
        "            \n",
        "            #insert input token embedding, previous hidden and previous cell states\n",
        "            #receive output tensor (predictions) and new hidden and cell states\n",
        "            output, hidden, cell = self.dcdr(input, hidden, cell)\n",
        "            \n",
        "            #place predictions in a tensor holding predictions for each token\n",
        "            outputs[t] = output\n",
        "            \n",
        "            #decide if we are going to use teacher forcing or not\n",
        "            tforce = random.random() < ratio\n",
        "            \n",
        "            #get the highest predicted token from our predictions\n",
        "            top1 = output.argmax(1) \n",
        "            \n",
        "            #if teacher forcing, use actual next token as next input\n",
        "            #if not, use predicted token\n",
        "            input = target[t] if tforce else top1\n",
        "        \n",
        "        return outputs"
      ],
      "metadata": {
        "id": "X2ptYMNNZaco"
      },
      "execution_count": 23,
      "outputs": []
    },
    {
      "cell_type": "code",
      "source": [
        "model = MODEL(encoder(len(vocab), 256, 512, 2, 0.5), decoder(len(vocab), 256, 512, 2, 0.5), device).to(device)"
      ],
      "metadata": {
        "id": "7LZoZO8FaB_o"
      },
      "execution_count": 24,
      "outputs": []
    },
    {
      "cell_type": "code",
      "source": [
        "def init_weights(m):\n",
        "    for name, param in m.named_parameters():\n",
        "        nn.init.uniform_(param.data, -0.08, 0.08)\n",
        "        \n",
        "model.apply(init_weights)"
      ],
      "metadata": {
        "colab": {
          "base_uri": "https://localhost:8080/"
        },
        "id": "f_M4rvJjae6K",
        "outputId": "9044380d-e83a-4ff7-f945-687765d46b4c"
      },
      "execution_count": 25,
      "outputs": [
        {
          "output_type": "execute_result",
          "data": {
            "text/plain": [
              "MODEL(\n",
              "  (encdr): encoder(\n",
              "    (dropout): Dropout(p=0.5, inplace=False)\n",
              "    (Embddng): Embedding(18011, 256)\n",
              "    (RNN): LSTM(256, 512, num_layers=2, dropout=0.5)\n",
              "  )\n",
              "  (dcdr): decoder(\n",
              "    (Embddng): Embedding(18011, 256)\n",
              "    (fc): Linear(in_features=512, out_features=18011, bias=True)\n",
              "    (dropout): Dropout(p=0.5, inplace=False)\n",
              "    (probs): Softmax(dim=1)\n",
              "    (RNN): LSTM(256, 512, num_layers=2, dropout=0.5)\n",
              "  )\n",
              ")"
            ]
          },
          "metadata": {},
          "execution_count": 25
        }
      ]
    },
    {
      "cell_type": "code",
      "source": [
        "optimizer = optim.Adam(model.parameters())"
      ],
      "metadata": {
        "id": "hrubb8izatDI"
      },
      "execution_count": 26,
      "outputs": []
    },
    {
      "cell_type": "code",
      "source": [
        "LOSS = nn.CrossEntropyLoss(ignore_index = vocab.get_stoi()[\"<unk>\"]).to(device)"
      ],
      "metadata": {
        "id": "xF7EZykaaxXw"
      },
      "execution_count": 27,
      "outputs": []
    },
    {
      "cell_type": "code",
      "source": [
        "len(first_batch[1])"
      ],
      "metadata": {
        "colab": {
          "base_uri": "https://localhost:8080/"
        },
        "id": "N53u5sV4Uw6s",
        "outputId": "440fc152-3c49-46da-ea95-e18724146da2"
      },
      "execution_count": 28,
      "outputs": [
        {
          "output_type": "execute_result",
          "data": {
            "text/plain": [
              "11"
            ]
          },
          "metadata": {},
          "execution_count": 28
        }
      ]
    },
    {
      "cell_type": "code",
      "source": [
        "def evaluate(model, val_loader, LOSS):\n",
        "    \n",
        "    model.eval()\n",
        "    \n",
        "    epoch_loss = 0\n",
        "    correct = 0\n",
        "    with torch.no_grad():\n",
        "    \n",
        "        for i, batch in enumerate(val_loader):\n",
        "\n",
        "            src, trg = batch\n",
        "\n",
        "            output = model(src, trg, 0) #turn off teacher forcing\n",
        "\n",
        "            #trg = [trg len, batch size]\n",
        "            #output = [trg len, batch size, output dim]\n",
        "\n",
        "            output_dim = output.shape[-1]\n",
        "            \n",
        "            output = output[1:].view(-1, output_dim)\n",
        "            trg = trg[1:,].reshape(output.shape[0])\n",
        "            trg = trg.type(torch.LongTensor).to(device)\n",
        "            #trg = [(trg len - 1) * batch size]\n",
        "            #output = [(trg len - 1) * batch size, output dim]\n",
        "            loss = LOSS(output, trg)\n",
        "            correct += (output.argmax(1) == trg).type(torch.float).sum().item()\n",
        "            epoch_loss += loss.item()\n",
        "    correct /= trg.shape[0]\n",
        "    return correct , epoch_loss / len(val_loader)"
      ],
      "metadata": {
        "id": "7DCnT1C8b708"
      },
      "execution_count": 29,
      "outputs": []
    },
    {
      "cell_type": "code",
      "source": [
        "def train(model, train_loader, optimizer, LOSS, clip):\n",
        "    \n",
        "    model.train()\n",
        "    \n",
        "    epoch_loss = 0\n",
        "    correct = 0\n",
        "    for i, batch in enumerate(train_loader):\n",
        "\n",
        "        src, trg = batch\n",
        "        optimizer.zero_grad()\n",
        "        output = model(src, trg)\n",
        "\n",
        "        #trg = [trg len, batch size]\n",
        "        #output = [trg len, batch size, output dim]\n",
        "        output_dim = output.shape[-1]\n",
        "        # print(\"out\", output.shape)\n",
        "        # print(\"argmax\", output.argmax(2).shape)\n",
        "        output = output[1:,].view(-1, output_dim)\n",
        "        trg = trg[1:,].reshape(output.shape[0])\n",
        "\n",
        "        #trg = [(trg len - 1) * batch size]\n",
        "        #output = [(trg len - 1) * batch size, output dim]\n",
        "        # print(\"out\", trg.shape)\n",
        "        trg = trg.type(torch.LongTensor).to(device)\n",
        "        loss = LOSS(output, trg)\n",
        "        correct += (output.argmax(1) == trg).type(torch.float).sum().item()\n",
        "        loss.backward()\n",
        "        \n",
        "        torch.nn.utils.clip_grad_norm_(model.parameters(), clip)\n",
        "        \n",
        "        optimizer.step()\n",
        "        \n",
        "        epoch_loss += loss.item()\n",
        "    correct /= trg.shape[0]\n",
        "    return correct, epoch_loss / len(train_loader)"
      ],
      "metadata": {
        "id": "XHDbQs8tWjMa"
      },
      "execution_count": 30,
      "outputs": []
    },
    {
      "cell_type": "code",
      "source": [
        "best_v_loss = float(100000)\n",
        "train_history = []\n",
        "val_history = []\n",
        "for epoch in range(4):\n",
        "    t_acc, t_loss = train(model, train_loader, optimizer, LOSS, 1)\n",
        "    v_acc, v_loss = evaluate(model, val_loader, LOSS)\n",
        "    train_history += [t_loss]\n",
        "    val_history += [v_loss]\n",
        "    if v_loss < best_v_loss:\n",
        "        best_v_loss = v_loss\n",
        "        torch.save(model.state_dict(), 'lstmmodel.pt')\n",
        "    print(f'train loss: {t_loss:.3f}\\ntrain acc: {t_acc:.3f}')\n",
        "    print(f'validation loss: {v_loss:.3f}\\nvalidation accuracy: {v_acc:.3f}')\n",
        "    print(\"===========================\\n==============================\")"
      ],
      "metadata": {
        "id": "ZJBA90zzcDx0",
        "colab": {
          "base_uri": "https://localhost:8080/"
        },
        "outputId": "6b870918-d568-4e2d-e498-76cedb743620"
      },
      "execution_count": 31,
      "outputs": [
        {
          "output_type": "stream",
          "name": "stdout",
          "text": [
            "train loss: 9.692\n",
            "train acc: 41.763\n",
            "validation loss: 9.624\n",
            "validation accuracy: 1.664\n",
            "===========================\n",
            "==============================\n",
            "train loss: 9.598\n",
            "train acc: 59.497\n",
            "validation loss: 9.593\n",
            "validation accuracy: 1.951\n",
            "===========================\n",
            "==============================\n",
            "train loss: 9.593\n",
            "train acc: 60.765\n",
            "validation loss: 9.593\n",
            "validation accuracy: 1.951\n",
            "===========================\n",
            "==============================\n",
            "train loss: 9.593\n",
            "train acc: 60.765\n",
            "validation loss: 9.593\n",
            "validation accuracy: 1.951\n",
            "===========================\n",
            "==============================\n"
          ]
        }
      ]
    },
    {
      "cell_type": "code",
      "source": [
        "e = range(4)\n",
        "plt.plot(e, train_history)\n",
        "plt.plot(e, val_history)\n",
        "plt.title(\"validation and train loss curves\")\n",
        "plt.plot()"
      ],
      "metadata": {
        "colab": {
          "base_uri": "https://localhost:8080/",
          "height": 298
        },
        "id": "ho5FQdyqSN1_",
        "outputId": "3250f31a-b28e-4d2b-d2d0-f4206cd0c235"
      },
      "execution_count": 32,
      "outputs": [
        {
          "output_type": "execute_result",
          "data": {
            "text/plain": [
              "[]"
            ]
          },
          "metadata": {},
          "execution_count": 32
        },
        {
          "output_type": "display_data",
          "data": {
            "text/plain": [
              "<Figure size 432x288 with 1 Axes>"
            ],
            "image/png": "[encoded data removed]"
          },
          "metadata": {
            "needs_background": "light"
          }
        }
      ]
    },
    {
      "cell_type": "markdown",
      "source": [
        "##B"
      ],
      "metadata": {
        "id": "qbLCgTVFboBY"
      }
    },
    {
      "cell_type": "code",
      "source": [
        "class encdr(nn.Module):\n",
        "\n",
        "    def __init__(self, id, ed, hd, nl, dropout):\n",
        "\n",
        "        super().__init__()\n",
        "        self.hd = hd\n",
        "        # self.n_layers = n_layers\n",
        "        self.embedding = nn.Embedding(id, ed)\n",
        "        self.gru = nn.GRU(ed, hd)\n",
        "        self.dropout = nn.Dropout(dropout)\n",
        "    def forward(self, suorce):\n",
        "        \n",
        "        #suorce = [suorce len, batch size]\n",
        "        embedded = self.dropout(self.embedding(suorce))\n",
        "        #embedded = [suorce len, batch size, emb dim]\n",
        "        outputs, hidden = self.gru(embedded)\n",
        "        #outputs = [suorce len, batch size, hid dim * n directions]\n",
        "        #hidden = [n layers * n directions, batch size, hid dim]\n",
        "        #cell = [n layers * n directions, batch size, hid dim]\n",
        "        #outputs are always from the top hidden layer\n",
        "        return hidden"
      ],
      "metadata": {
        "id": "uukZqk5mboyy"
      },
      "execution_count": 33,
      "outputs": []
    },
    {
      "cell_type": "code",
      "source": [
        "class dcdr(nn.Module):\n",
        "    def __init__(self, od, ed, hd, nl, dropout):\n",
        "\n",
        "        super().__init__()\n",
        "        self.od = od\n",
        "        self.hd = hd\n",
        "        # self.n_layers = n_layers\n",
        "        self.Embddng = nn.Embedding(od, ed)\n",
        "        self.gru = nn.GRU(ed + hd, hd)\n",
        "        self.fc = nn.Linear(ed + hd * 2, od)\n",
        "        self.dropout = nn.Dropout(dropout)\n",
        "        self.probs = nn.Softmax(dim=1)\n",
        "        \n",
        "    def forward(self, input, hidden, z):\n",
        "        \n",
        "        #input = [batch size]\n",
        "        #hidden = [n layers * n directions, batch size, hid dim]\n",
        "        #cell = [n layers * n directions, batch size, hid dim]\n",
        "        \n",
        "        #n directions in the decoder will both always be 1, therefore:\n",
        "        #hidden = [n layers, batch size, hid dim]\n",
        "        #context = [n layers, batch size, hid dim]\n",
        "        \n",
        "        input = input.unsqueeze(0)\n",
        "        \n",
        "        #input = [1, batch size]\n",
        "        \n",
        "        embedded = self.dropout(self.Embddng(input))\n",
        "        \n",
        "        #embedded = [1, batch size, emb dim]\n",
        "        ec = torch.cat((embedded, z), dim = 2)\n",
        "        output, hidden = self.gru(ec, hidden)\n",
        "        \n",
        "        #output = [seq len, batch size, hid dim * n directions]\n",
        "        #hidden = [n layers * n directions, batch size, hid dim]\n",
        "        #cell = [n layers * n directions, batch size, hid dim]\n",
        "        \n",
        "        #seq len and n directions will always be 1 in the decoder, therefore:\n",
        "        #output = [1, batch size, hid dim]\n",
        "        #hidden = [n layers, batch size, hid dim]\n",
        "        #cell = [n layers, batch size, hid dim]\n",
        "        output = torch.cat((embedded.squeeze(0), hidden.squeeze(0), z.squeeze(0)), dim = 1)\n",
        "        prediction = self.fc(output.squeeze(0))\n",
        "        \n",
        "        #prediction = [batch size, output dim]\n",
        "        \n",
        "        return prediction, hidden"
      ],
      "metadata": {
        "id": "BGNXPlFcby3A"
      },
      "execution_count": 34,
      "outputs": []
    },
    {
      "cell_type": "code",
      "source": [
        "class MODEL(nn.Module):\n",
        "    def __init__(self, encdr, dcdr, dvce):\n",
        "        super().__init__()\n",
        "        self.encdr = encdr\n",
        "        self.dcdr = dcdr\n",
        "        self.device = dvce\n",
        "    def forward(self, sorce, trget, ratio = 0.5):\n",
        "\n",
        "        #src = [src len, batch size]\n",
        "        #trg = [trg len, batch size]\n",
        "        #teacher_forcing_ratio is probability to use teacher forcing\n",
        "        #e.g. if teacher forcing ratio is 0.75 we use ground-truth inputs 75% of the time\n",
        "        \n",
        "        batch_size = trget.shape[1]\n",
        "        vocab_size = self.dcdr.od\n",
        "        \n",
        "        #tensor to store decoder outputs\n",
        "        outputs = torch.zeros(trget.shape[0], batch_size, vocab_size).to(self.device)\n",
        "        #last hidden state of the encoder is used as the initial hidden state of the decoder\n",
        "        Z = self.encdr(sorce)\n",
        "        hidden = Z\n",
        "        #first input to the decoder is the <start> tokens\n",
        "        input = trget[0,:]\n",
        "        \n",
        "        for t in range(1, trget.shape[0]):\n",
        "            \n",
        "            #insert input token embedding, previous hidden and previous cell states\n",
        "            #receive output tensor (predictions) and new hidden and cell states\n",
        "            output, hidden=self.dcdr(input, hidden, Z)\n",
        "            \n",
        "            #place predictions in a tensor holding predictions for each token\n",
        "            outputs[t] = output\n",
        "            \n",
        "            #decide if we are going to use teacher forcing or not\n",
        "            teacher_force = random.random() < ratio\n",
        "            \n",
        "            #get the highest predicted token from our predictions\n",
        "            top1 = output.argmax(1) \n",
        "            \n",
        "            #if teacher forcing, use actual next token as next input\n",
        "            #if not, use predicted token\n",
        "            input = trget[t] if teacher_force else top1\n",
        "        \n",
        "        return outputs"
      ],
      "metadata": {
        "id": "JJYHCaU8dt4Y"
      },
      "execution_count": 40,
      "outputs": []
    },
    {
      "cell_type": "code",
      "source": [
        "model = MODEL(encdr(len(vocab), 256, 512, 2, 0.5),\n",
        "              dcdr(len(vocab), 256, 512, 2, 0.5),\n",
        "              device).to(device)"
      ],
      "metadata": {
        "id": "YcmhcIp0fMlA"
      },
      "execution_count": 41,
      "outputs": []
    },
    {
      "cell_type": "code",
      "source": [
        "optimizer = optim.Adam(model.parameters())\n",
        "criterion = nn.CrossEntropyLoss(ignore_index = vocab.get_stoi()[\"<unk>\"]).to(device)"
      ],
      "metadata": {
        "id": "FSvJ6CgafZ59"
      },
      "execution_count": 42,
      "outputs": []
    },
    {
      "cell_type": "code",
      "source": [
        "best_v_loss = float(100000)\n",
        "train_history = []\n",
        "val_history = []\n",
        "for epoch in range(4):\n",
        "    t_acc, t_loss = train(model, train_loader, optimizer, criterion, 1)\n",
        "    v_acc, v_loss = evaluate(model, val_loader, criterion)\n",
        "    train_history += [t_loss]\n",
        "    val_history += [v_loss]\n",
        "    if v_loss < best_v_loss:\n",
        "        best_v_loss = v_loss\n",
        "        torch.save(model.state_dict(), 'lstmmodel.pt')\n",
        "    print(f'train loss: {t_loss:.3f}\\ntrain acc: {t_acc:.3f}')\n",
        "    print(f'validation loss: {v_loss:.3f}\\nvalidation accuracy: {v_acc:.3f}')\n",
        "    print(\"===========================\\n==============================\")"
      ],
      "metadata": {
        "colab": {
          "base_uri": "https://localhost:8080/"
        },
        "id": "MZ9wBvVrf3mQ",
        "outputId": "9fbc100e-ed77-4c6d-fa4a-cd4190022511"
      },
      "execution_count": 43,
      "outputs": [
        {
          "output_type": "stream",
          "name": "stdout",
          "text": [
            "train loss: 6.483\n",
            "train acc: 51.351\n",
            "validation loss: 5.960\n",
            "validation accuracy: 1.879\n",
            "===========================\n",
            "==============================\n",
            "train loss: 5.707\n",
            "train acc: 60.882\n",
            "validation loss: 5.813\n",
            "validation accuracy: 1.932\n",
            "===========================\n",
            "==============================\n",
            "train loss: 5.469\n",
            "train acc: 63.440\n",
            "validation loss: 5.681\n",
            "validation accuracy: 1.998\n",
            "===========================\n",
            "==============================\n",
            "train loss: 5.159\n",
            "train acc: 67.750\n",
            "validation loss: 5.569\n",
            "validation accuracy: 2.089\n",
            "===========================\n",
            "==============================\n"
          ]
        }
      ]
    },
    {
      "cell_type": "markdown",
      "source": [
        "همانطور که از دوبخش الف و ب مشاهده شد استفاده از جی.آر.یو و یک تکنیک دیگر منجر به کاهش لاس و افرایش دقت شد"
      ],
      "metadata": {
        "id": "eq0XoFdj8B9S"
      }
    }
  ]
}